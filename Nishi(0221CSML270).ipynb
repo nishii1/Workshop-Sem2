{
 "cells": [
  {
   "cell_type": "markdown",
   "id": "dced0377",
   "metadata": {},
   "source": [
    "# 9 - import numpy as np # create numpy array arr = np.array([1, 2, 4, 5, 6]) #flipud method for reversing reverse_ arr = np.flipud(arr) print(reverse_arr)"
   ]
  },
  {
   "cell_type": "code",
   "execution_count": 3,
   "id": "f5f91057",
   "metadata": {},
   "outputs": [
    {
     "name": "stdout",
     "output_type": "stream",
     "text": [
      "[6 5 4 2 1]\n"
     ]
    }
   ],
   "source": [
    " import numpy as np\n",
    "\n",
    "arr = np.array([1, 2, 4, 5, 6])\n",
    "reverse_arr = np.flipud(arr)\n",
    "print(reverse_arr)"
   ]
  },
  {
   "cell_type": "markdown",
   "id": "fed88ac2",
   "metadata": {},
   "source": [
    "# 10.Write a program to draw colored shapes (line, rectangle, oval) on canvas."
   ]
  },
  {
   "cell_type": "code",
   "execution_count": 4,
   "id": "623d1bc8",
   "metadata": {},
   "outputs": [],
   "source": [
    "from tkinter import *\n",
    "master = Tk()\n",
    "master.title(\"Nishi\")\n",
    "w=Canvas(master,width=400,height=400)\n",
    "w.pack()\n",
    "w.create_oval(50,50,150,100,width=2,fill='red')\n",
    "mainloop()"
   ]
  },
  {
   "cell_type": "code",
   "execution_count": 5,
   "id": "b6c3324c",
   "metadata": {},
   "outputs": [],
   "source": [
    "from tkinter import *\n",
    "master = Tk()\n",
    "master.title(\"Nishi\")\n",
    "w=Canvas(master,width=400,height=400)\n",
    "w.pack()\n",
    "w.create_rectangle(50,50,150,100,width=2,fill='yellow')\n",
    "mainloop()"
   ]
  },
  {
   "cell_type": "code",
   "execution_count": 8,
   "id": "da494866",
   "metadata": {},
   "outputs": [],
   "source": [
    "from tkinter import *\n",
    "master = Tk()\n",
    "master.title(\"Nishi\")\n",
    "w=Canvas(master,width=2000,height=20)\n",
    "w.pack()\n",
    "canvas_height=20\n",
    "canvas_width=200\n",
    "y=int(canvas_height/2)\n",
    "w.create_line(0,y,canvas_width,y)\n",
    "mainloop()"
   ]
  },
  {
   "cell_type": "markdown",
   "id": "5065a6c5",
   "metadata": {},
   "source": [
    "# 12.Remove all rows with NULL values: USING NUMPY AND PANDAS OF YOUR DATASET WHICH YOU HAVE"
   ]
  },
  {
   "cell_type": "code",
   "execution_count": 12,
   "id": "0d047ff4",
   "metadata": {},
   "outputs": [
    {
     "name": "stdout",
     "output_type": "stream",
     "text": [
      "     Duration  Pulse  Maxpulse  Calories\n",
      "0          60    110       130     409.1\n",
      "1          60    117       145     479.0\n",
      "2          60    103       135     340.0\n",
      "3          45    109       175     282.4\n",
      "4          45    117       148     406.0\n",
      "5          60    102       127     300.0\n",
      "6          60    110       136     374.0\n",
      "7          45    104       134     253.3\n",
      "8          30    109       133     195.1\n",
      "9          60     98       124     269.0\n",
      "10         60    103       147     329.3\n",
      "11         60    100       120     250.7\n",
      "12         60    106       128     345.3\n",
      "13         60    104       132     379.3\n",
      "14         60     98       123     275.0\n",
      "15         60     98       120     215.2\n",
      "16         60    100       120     300.0\n",
      "18         60    103       123     323.0\n",
      "19         45     97       125     243.0\n",
      "20         60    108       131     364.2\n",
      "21         45    100       119     282.0\n",
      "22         60    130       101     300.0\n",
      "23         45    105       132     246.0\n",
      "24         60    102       126     334.5\n",
      "25         60    100       120     250.0\n",
      "26         60     92       118     241.0\n",
      "28         60    100       132     280.0\n",
      "29         60    102       129     380.3\n",
      "30         60     92       115     243.0\n",
      "31         45     90       112     180.1\n",
      "32         60    101       124     299.0\n",
      "33         60     93       113     223.0\n",
      "34         60    107       136     361.0\n",
      "35         60    114       140     415.0\n",
      "36         60    102       127     300.0\n",
      "37         60    100       120     300.0\n",
      "38         60    100       120     300.0\n",
      "39         45    104       129     266.0\n",
      "40         45     90       112     180.1\n",
      "41         60     98       126     286.0\n",
      "42         60    100       122     329.4\n",
      "43         60    111       138     400.0\n",
      "44         60    111       131     397.0\n",
      "45         60     99       119     273.0\n",
      "46         60    109       153     387.6\n",
      "47         45    111       136     300.0\n",
      "48         45    108       129     298.0\n",
      "49         60    111       139     397.6\n",
      "50         60    107       136     380.2\n",
      "51         80    123       146     643.1\n",
      "52         60    106       130     263.0\n",
      "53         60    118       151     486.0\n",
      "54         30    136       175     238.0\n",
      "55         60    121       146     450.7\n",
      "56         60    118       121     413.0\n",
      "57         45    115       144     305.0\n",
      "58         20    153       172     226.4\n",
      "59         45    123       152     321.0\n",
      "60        210    108       160    1376.0\n",
      "61        160    110       137    1034.4\n",
      "62        160    109       135     853.0\n",
      "63         45    118       141     341.0\n",
      "64         20    110       130     131.4\n",
      "65        180     90       130     800.4\n",
      "66        150    105       135     873.4\n",
      "67        150    107       130     816.0\n",
      "68         20    106       136     110.4\n",
      "69        300    108       143    1500.2\n",
      "70        150     97       129    1115.0\n",
      "71         60    109       153     387.6\n",
      "72         90    100       127     700.0\n",
      "73        150     97       127     953.2\n",
      "74         45    114       146     304.0\n",
      "75         90     98       125     563.2\n",
      "76         45    105       134     251.0\n",
      "77         45    110       141     300.0\n",
      "78        120    100       130     500.4\n",
      "79        270    100       131    1729.0\n",
      "80         30    159       182     319.2\n",
      "81         45    149       169     344.0\n",
      "82         30    103       139     151.1\n",
      "83        120    100       130     500.0\n",
      "84         45    100       120     225.3\n",
      "85         30    151       170     300.0\n",
      "86         45    102       136     234.0\n",
      "87        120    100       157    1000.1\n",
      "88         45    129       103     242.0\n",
      "89         20     83       107      50.3\n",
      "90        180    101       127     600.1\n",
      "92         30     90       107     105.3\n",
      "93         15     80       100      50.5\n",
      "94         20    150       171     127.4\n",
      "95         20    151       168     229.4\n",
      "96         30     95       128     128.2\n",
      "97         25    152       168     244.2\n",
      "98         30    109       131     188.2\n",
      "99         90     93       124     604.1\n",
      "100        20     95       112      77.7\n",
      "101        90     90       110     500.0\n",
      "102        90     90       100     500.0\n",
      "103        90     90       100     500.4\n",
      "104        30     92       108      92.7\n",
      "105        30     93       128     124.0\n",
      "106       180     90       120     800.3\n",
      "107        30     90       120      86.2\n",
      "108        90     90       120     500.3\n",
      "109       210    137       184    1860.4\n",
      "110        60    102       124     325.2\n",
      "111        45    107       124     275.0\n",
      "112        15    124       139     124.2\n",
      "113        45    100       120     225.3\n",
      "114        60    108       131     367.6\n",
      "115        60    108       151     351.7\n",
      "116        60    116       141     443.0\n",
      "117        60     97       122     277.4\n",
      "119        60    103       124     332.7\n",
      "120        30    112       137     193.9\n",
      "121        45    100       120     100.7\n",
      "122        60    119       169     336.7\n",
      "123        60    107       127     344.9\n",
      "124        60    111       151     368.5\n",
      "125        60     98       122     271.0\n",
      "126        60     97       124     275.3\n",
      "127        60    109       127     382.0\n",
      "128        90     99       125     466.4\n",
      "129        60    114       151     384.0\n",
      "130        60    104       134     342.5\n",
      "131        60    107       138     357.5\n",
      "132        60    103       133     335.0\n",
      "133        60    106       132     327.5\n",
      "134        60    103       136     339.0\n",
      "135        20    136       156     189.0\n",
      "136        45    117       143     317.7\n",
      "137        45    115       137     318.0\n",
      "138        45    113       138     308.0\n",
      "139        20    141       162     222.4\n",
      "140        60    108       135     390.0\n",
      "142        45    100       120     250.4\n",
      "143        45    122       149     335.4\n",
      "144        60    136       170     470.2\n",
      "145        45    106       126     270.8\n",
      "146        60    107       136     400.0\n",
      "147        60    112       146     361.9\n",
      "148        30    103       127     185.0\n",
      "149        60    110       150     409.4\n",
      "150        60    106       134     343.0\n",
      "151        60    109       129     353.2\n",
      "152        60    109       138     374.0\n",
      "153        30    150       167     275.8\n",
      "154        60    105       128     328.0\n",
      "155        60    111       151     368.5\n",
      "156        60     97       131     270.4\n",
      "157        60    100       120     270.4\n",
      "158        60    114       150     382.8\n",
      "159        30     80       120     240.9\n",
      "160        30     85       120     250.4\n",
      "161        45     90       130     260.4\n",
      "162        45     95       130     270.0\n",
      "163        45    100       140     280.9\n",
      "164        60    105       140     290.8\n",
      "165        60    110       145     300.0\n",
      "166        60    115       145     310.2\n",
      "167        75    120       150     320.4\n",
      "168        75    125       150     330.4\n"
     ]
    }
   ],
   "source": [
    "import pandas as pd\n",
    "df = pd.read_csv('data.csv')\n",
    "new_df = df.dropna()\n",
    "print(new_df.to_string())"
   ]
  },
  {
   "cell_type": "markdown",
   "id": "250b58ef",
   "metadata": {},
   "source": [
    "# 4.Create a class named as Student to store the rollno, name and marks in three subjects. Use List to store the marks. \n",
    "a) Write an instance method called compute() to compute total marks and\n",
    "average marks of a student. \n",
    "b) Write a method called display() to display student information"
   ]
  },
  {
   "cell_type": "code",
   "execution_count": 14,
   "id": "719f7555",
   "metadata": {},
   "outputs": [
    {
     "name": "stdout",
     "output_type": "stream",
     "text": [
      "Enter student name: Nishi\n",
      "Enter marks in subect 1 :56\n",
      "Enter marks in subect 2 :67\n",
      "Enter marks in subect 3 :66\n",
      "Nishi details:\n",
      "Marks in subject1 =  56\n",
      "Marks in subject2 =  67\n",
      "Marks in subject3 =  66\n",
      "Total marks: 189\n",
      "Total average marks 63.0\n"
     ]
    }
   ],
   "source": [
    "class Student:\n",
    "  list_of_marks = []\n",
    "  def __init__(self):\n",
    "    self.name = input('Enter student name: ')\n",
    "    for i in range(1,4):\n",
    "      self.list_of_marks.append(int(input(f'Enter marks in subect {i} :')))\n",
    "  def compute(self):\n",
    "    self.total_marks = sum(self.list_of_marks)\n",
    "    self.average = self.total_marks/3\n",
    "  def display(self):\n",
    "    print(self.name,'details:')\n",
    "    for i in range(1,4):\n",
    "      print(f'Marks in subject{i} = ',self.list_of_marks[i-1])\n",
    "Prince = Student()\n",
    "Prince.compute()\n",
    "Prince.display()\n",
    "print(\"Total marks:\",Prince.total_marks)\n",
    "print(\"Total average marks\",Prince.average)"
   ]
  },
  {
   "cell_type": "markdown",
   "id": "35a3f9ba",
   "metadata": {},
   "source": [
    "# 7.Write a program to implement default constructor, parameterized constructor, and destructor."
   ]
  },
  {
   "cell_type": "code",
   "execution_count": 21,
   "id": "0bedb29d",
   "metadata": {},
   "outputs": [
    {
     "name": "stdout",
     "output_type": "stream",
     "text": [
      "nishi\n",
      "object deleted\n"
     ]
    }
   ],
   "source": [
    "class Person:\n",
    "    def __init__(self,name):\n",
    "        self.name = name\n",
    "    def __del__(self):\n",
    "        print(\"object deleted\")\n",
    "    def display(self):\n",
    "        print(self.name)\n",
    "p = Person(\"nishi\")\n",
    "p.display()\n",
    "del p"
   ]
  },
  {
   "cell_type": "markdown",
   "id": "657e9669",
   "metadata": {},
   "source": [
    "# 2.Write a program that creates an iterator to print squares of numbers. "
   ]
  },
  {
   "cell_type": "code",
   "execution_count": 18,
   "id": "aca49669",
   "metadata": {},
   "outputs": [
    {
     "name": "stdout",
     "output_type": "stream",
     "text": [
      "1\n",
      "4\n",
      "9\n",
      "16\n",
      "25\n",
      "36\n",
      "49\n",
      "64\n",
      "81\n",
      "100\n"
     ]
    }
   ],
   "source": [
    "class Square_Iterator:\n",
    "    def __init__(self,limit):\n",
    "        self.limit = limit\n",
    "    def __iter__(self):\n",
    "        self.a = 1\n",
    "        return self\n",
    "    def __next__(self):\n",
    "        if self.limit>=self.a:\n",
    "            x = self.a\n",
    "            self.a+=1\n",
    "            return x**2\n",
    "        else:\n",
    "            raise StopIteration\n",
    "S = Square_Iterator(10)\n",
    "for i in S:\n",
    "    print(i)"
   ]
  },
  {
   "cell_type": "markdown",
   "id": "5550db86",
   "metadata": {},
   "source": [
    "# 6.Create a class Employee that keeps a track of the number of employees in an organization and also stores their name, designation and salary details. \n",
    " a) Write a method called getdata to take input (name, designation,\n",
    "salary) from user. \n",
    " b) Write a method called average to find average salary of all the\n",
    "employees in the organization. \n",
    " c) Write a method called display to print all the information of an\n",
    "employee."
   ]
  },
  {
   "cell_type": "code",
   "execution_count": 19,
   "id": "cfd8c13b",
   "metadata": {},
   "outputs": [
    {
     "name": "stdout",
     "output_type": "stream",
     "text": [
      "Mike \n",
      "ID: 5 \n",
      "salary: 75000 \n",
      "designation: Manager \n",
      "team: A\n",
      "\n",
      "Mike is leading the following employees:\n",
      "\n",
      "Niki \n",
      "ID: 1 \n",
      "salary: 45000\n",
      "\n",
      "John \n",
      "ID: 2 \n",
      "salary: 23000\n",
      "\n",
      "Tom \n",
      "ID: 6 \n",
      "salary: 70000 \n",
      "designation: Team Leader \n",
      "team: B\n",
      "\n",
      "Tom is leading the following employees:\n",
      "\n",
      "Binu \n",
      "ID: 3 \n",
      "salary: 99000\n",
      "\n",
      "meina \n",
      "ID: 4 \n",
      "salary: 35000\n",
      "\n"
     ]
    }
   ],
   "source": [
    "class Employee:\n",
    "  d = {chr(i):[] for i in range(65,91)}\n",
    "  def __init__(self, name, emp_id, salary):\n",
    "        self.name = name\n",
    "        self.emp_id = emp_id\n",
    "        self.salary = salary\n",
    "  def team(self,obj,team):         \n",
    "    self.d[team].append(obj)\n",
    "    \n",
    "\n",
    "         \n",
    "class Manager(Employee):\n",
    "    def __init__(self, name, emp_id, salary, team):\n",
    "        super().__init__(name, emp_id, salary)\n",
    "        self.designation = 'Manager'\n",
    "        self.team = team\n",
    "\n",
    "    def display_team(self):\n",
    "        print(f\"{self.name} \\nID: {self.emp_id} \\nsalary: {self.salary} \\ndesignation: {self.designation} \\nteam: {self.team}\")\n",
    "        print()\n",
    "\n",
    "        print(f\"{self.name} is leading the following employees:\")\n",
    "        print()\n",
    "        for emp in self.d[self.team]:\n",
    "            print(f\"{emp.name} \\nID: {emp.emp_id} \\nsalary: {emp.salary}\")\n",
    "            print()\n",
    "\n",
    "class TeamLeader(Employee):\n",
    "    def __init__(self, name, emp_id, salary, team):\n",
    "        super().__init__(name, emp_id, salary)\n",
    "        self.team = team\n",
    "        self.designation = 'Team Leader'\n",
    " \n",
    "    def display_team(self):\n",
    "        print(f\"{self.name} \\nID: {self.emp_id} \\nsalary: {self.salary} \\ndesignation: {self.designation} \\nteam: {self.team}\")\n",
    "        print()\n",
    "\n",
    "        print(f\"{self.name} is leading the following employees:\")\n",
    "        print()\n",
    "        for emp in self.d[self.team]:\n",
    "            print(f\"{emp.name} \\nID: {emp.emp_id} \\nsalary: {emp.salary}\")\n",
    "            print()\n",
    "emp1 = Employee(\"Niki\", 1, 45000)\n",
    "emp1.team(emp1,'A')\n",
    "emp2 = Employee(\"John\", 2, 23000)\n",
    "emp2.team(emp2,'A')\n",
    "emp3 = Employee(\"Binu\", 3, 99000)\n",
    "emp3.team(emp3,'B')\n",
    "emp4 = Employee(\"meina\", 4, 35000)\n",
    "emp4.team(emp4,'B')\n",
    "mgr = Manager(\"Mike\", 5, 75000, 'A')\n",
    "tl = TeamLeader(\"Tom\", 6, 70000, 'B')\n",
    "\n",
    "mgr.display_team()\n",
    "tl.display_team()"
   ]
  },
  {
   "cell_type": "code",
   "execution_count": 22,
   "id": "19610920",
   "metadata": {},
   "outputs": [
    {
     "ename": "SyntaxError",
     "evalue": "invalid decimal literal (3275458734.py, line 1)",
     "output_type": "error",
     "traceback": [
      "\u001b[1;36m  Cell \u001b[1;32mIn[22], line 1\u001b[1;36m\u001b[0m\n\u001b[1;33m    1.Write a program to demonstrate hybrid inheritance and show MRO for each class\u001b[0m\n\u001b[1;37m     ^\u001b[0m\n\u001b[1;31mSyntaxError\u001b[0m\u001b[1;31m:\u001b[0m invalid decimal literal\n"
     ]
    }
   ],
   "source": [
    "1.Write a program to demonstrate hybrid inheritance and show MRO for each class"
   ]
  },
  {
   "cell_type": "code",
   "execution_count": 23,
   "id": "16a8e7f4",
   "metadata": {},
   "outputs": [
    {
     "ename": "SyntaxError",
     "evalue": "invalid decimal literal (2723771279.py, line 1)",
     "output_type": "error",
     "traceback": [
      "\u001b[1;36m  Cell \u001b[1;32mIn[23], line 1\u001b[1;36m\u001b[0m\n\u001b[1;33m    3.What are ways of creating 1D, 2D and 3D arrays in NumPy? Give Examples\u001b[0m\n\u001b[1;37m     ^\u001b[0m\n\u001b[1;31mSyntaxError\u001b[0m\u001b[1;31m:\u001b[0m invalid decimal literal\n"
     ]
    }
   ],
   "source": [
    "3.What are ways of creating 1D, 2D and 3D arrays in NumPy? Give Examples "
   ]
  },
  {
   "cell_type": "code",
   "execution_count": null,
   "id": "7843c08a",
   "metadata": {},
   "outputs": [],
   "source": [
    "5.Write a Program to create a series from a list, numpy array and dict.\n",
    "list_data = [10, 20, 30, 40, 50]\n",
    "array_data = ([0.5, 0.8, 1.2, 1.5, 2.0])"
   ]
  }
 ],
 "metadata": {
  "kernelspec": {
   "display_name": "Python 3 (ipykernel)",
   "language": "python",
   "name": "python3"
  },
  "language_info": {
   "codemirror_mode": {
    "name": "ipython",
    "version": 3
   },
   "file_extension": ".py",
   "mimetype": "text/x-python",
   "name": "python",
   "nbconvert_exporter": "python",
   "pygments_lexer": "ipython3",
   "version": "3.10.9"
  }
 },
 "nbformat": 4,
 "nbformat_minor": 5
}
